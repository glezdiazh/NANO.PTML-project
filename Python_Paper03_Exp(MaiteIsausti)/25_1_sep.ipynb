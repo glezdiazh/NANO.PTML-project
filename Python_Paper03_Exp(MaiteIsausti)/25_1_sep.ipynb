{
 "cells": [
  {
   "cell_type": "code",
   "execution_count": 1196,
   "id": "da10379b-6857-4d51-b8dc-c508afa5c56e",
   "metadata": {},
   "outputs": [],
   "source": [
    "import numpy as np\n",
    "import matplotlib.pyplot as plt\n",
    "from sklearn.discriminant_analysis import LinearDiscriminantAnalysis\n",
    "from sklearn.tree import DecisionTreeClassifier\n",
    "from sklearn.ensemble import RandomForestClassifier\n",
    "from sklearn.datasets import make_classification\n",
    "from sklearn.model_selection import train_test_split\n",
    "from sklearn.metrics import confusion_matrix, matthews_corrcoef\n",
    "from sklearn.neighbors import KNeighborsClassifier\n",
    "import pandas as pd\n",
    "from sklearn.tree import DecisionTreeClassifier\n",
    "from sklearn.model_selection import GridSearchCV"
   ]
  },
  {
   "cell_type": "code",
   "execution_count": 1197,
   "id": "cd7c29b0-634b-4253-80e8-1f14fad2eb28",
   "metadata": {},
   "outputs": [
    {
     "name": "stdout",
     "output_type": "stream",
     "text": [
      " Volume in drive C is Windows\n",
      " Volume Serial Number is 0412-1423\n",
      "\n",
      " Directory of C:\\Users\\RASULEVLAB\\Dropbox\\mis_modelos\\LDA\n",
      "\n",
      "09/27/2023  11:17 AM    <DIR>          .\n",
      "09/22/2023  12:22 AM    <DIR>          ..\n",
      "09/26/2023  02:43 PM    <DIR>          .ipynb_checkpoints\n",
      "09/07/2023  07:54 AM           127,104 1_9_05_2023.ipynb\n",
      "09/27/2023  11:17 AM           196,062 25_1_sep.ipynb\n",
      "09/26/2023  02:56 PM            22,980 25_2_2023.ipynb\n",
      "09/25/2023  05:28 PM               617 25_2_LDA.ipynb\n",
      "09/27/2023  09:12 AM            95,447 25_sep_LDA.ipynb\n",
      "09/05/2023  03:42 PM            53,291 3_Modelo_KNN_Optimizado.ipynb\n",
      "09/04/2023  11:01 AM             5,861 Array.ipynb\n",
      "09/07/2023  07:56 AM            22,434 Clasification.ipynb\n",
      "09/25/2023  10:50 AM           512,527 data_DNA.csv\n",
      "09/03/2023  01:08 PM         7,699,276 Data_LDA.csv\n",
      "09/02/2023  09:52 AM         1,832,168 Data_LDA.xlsb\n",
      "09/25/2023  11:36 AM            14,752 Lazzy_LDA.ipynb\n",
      "09/05/2023  07:37 AM           126,641 Lineal_Discriminant.ipynb\n",
      "09/25/2023  08:04 AM           308,693 O2_csv\n",
      "09/07/2023  08:01 AM            26,514 Ramdom_Forest.ipynb\n",
      "09/26/2023  04:36 PM           360,585 Ultimo_LDA_DNA.ipynb\n",
      "09/25/2023  03:19 PM            24,504 Untitled.ipynb\n",
      "09/26/2023  10:09 AM             1,636 Untitled1.ipynb\n",
      "09/26/2023  01:39 PM               617 Untitled2.ipynb\n",
      "              19 File(s)     11,431,709 bytes\n",
      "               3 Dir(s)  884,352,995,328 bytes free\n"
     ]
    }
   ],
   "source": [
    "ls"
   ]
  },
  {
   "cell_type": "code",
   "execution_count": 1198,
   "id": "b278e291-9997-4469-811c-203454b5b75e",
   "metadata": {},
   "outputs": [
    {
     "data": {
      "text/html": [
       "<div>\n",
       "<style scoped>\n",
       "    .dataframe tbody tr th:only-of-type {\n",
       "        vertical-align: middle;\n",
       "    }\n",
       "\n",
       "    .dataframe tbody tr th {\n",
       "        vertical-align: top;\n",
       "    }\n",
       "\n",
       "    .dataframe thead th {\n",
       "        text-align: right;\n",
       "    }\n",
       "</style>\n",
       "<table border=\"1\" class=\"dataframe\">\n",
       "  <thead>\n",
       "    <tr style=\"text-align: right;\">\n",
       "      <th></th>\n",
       "      <th>n-pair</th>\n",
       "      <th>q-seq</th>\n",
       "      <th>r-seq</th>\n",
       "      <th>eq(obs)</th>\n",
       "      <th>eqpred</th>\n",
       "      <th>p(eq=1)</th>\n",
       "      <th>prediction_trainig</th>\n",
       "      <th>eref</th>\n",
       "      <th>Dq0_Seq</th>\n",
       "      <th>Dq1_Seq</th>\n",
       "      <th>Dq2_Seq</th>\n",
       "    </tr>\n",
       "  </thead>\n",
       "  <tbody>\n",
       "    <tr>\n",
       "      <th>0</th>\n",
       "      <td>1</td>\n",
       "      <td>RL2F_267</td>\n",
       "      <td>Control_1043</td>\n",
       "      <td>1</td>\n",
       "      <td>1</td>\n",
       "      <td>0.736</td>\n",
       "      <td>training</td>\n",
       "      <td>-0.419</td>\n",
       "      <td>-2.211</td>\n",
       "      <td>-2.154</td>\n",
       "      <td>-2.144</td>\n",
       "    </tr>\n",
       "    <tr>\n",
       "      <th>1</th>\n",
       "      <td>18</td>\n",
       "      <td>RL2F_267</td>\n",
       "      <td>RL2F_479</td>\n",
       "      <td>1</td>\n",
       "      <td>1</td>\n",
       "      <td>0.735</td>\n",
       "      <td>training</td>\n",
       "      <td>2.384</td>\n",
       "      <td>-2.211</td>\n",
       "      <td>-2.154</td>\n",
       "      <td>-2.144</td>\n",
       "    </tr>\n",
       "    <tr>\n",
       "      <th>2</th>\n",
       "      <td>27</td>\n",
       "      <td>RL2F_693</td>\n",
       "      <td>Control_0650</td>\n",
       "      <td>1</td>\n",
       "      <td>1</td>\n",
       "      <td>0.964</td>\n",
       "      <td>training</td>\n",
       "      <td>-0.419</td>\n",
       "      <td>-2.461</td>\n",
       "      <td>-2.425</td>\n",
       "      <td>-2.420</td>\n",
       "    </tr>\n",
       "    <tr>\n",
       "      <th>3</th>\n",
       "      <td>47</td>\n",
       "      <td>RL2F_693</td>\n",
       "      <td>RL2F_458</td>\n",
       "      <td>1</td>\n",
       "      <td>1</td>\n",
       "      <td>0.964</td>\n",
       "      <td>training</td>\n",
       "      <td>2.384</td>\n",
       "      <td>-2.461</td>\n",
       "      <td>-2.425</td>\n",
       "      <td>-2.420</td>\n",
       "    </tr>\n",
       "    <tr>\n",
       "      <th>4</th>\n",
       "      <td>51</td>\n",
       "      <td>RL2F_559</td>\n",
       "      <td>RL1F_021</td>\n",
       "      <td>1</td>\n",
       "      <td>0</td>\n",
       "      <td>0.187</td>\n",
       "      <td>prediction</td>\n",
       "      <td>2.384</td>\n",
       "      <td>-1.744</td>\n",
       "      <td>-1.734</td>\n",
       "      <td>-1.731</td>\n",
       "    </tr>\n",
       "  </tbody>\n",
       "</table>\n",
       "</div>"
      ],
      "text/plain": [
       "   n-pair     q-seq         r-seq  eq(obs)  eqpred  p(eq=1)  \\\n",
       "0       1  RL2F_267  Control_1043        1       1    0.736   \n",
       "1      18  RL2F_267      RL2F_479        1       1    0.735   \n",
       "2      27  RL2F_693  Control_0650        1       1    0.964   \n",
       "3      47  RL2F_693      RL2F_458        1       1    0.964   \n",
       "4      51  RL2F_559      RL1F_021        1       0    0.187   \n",
       "\n",
       "  prediction_trainig   eref  Dq0_Seq  Dq1_Seq  Dq2_Seq  \n",
       "0           training -0.419   -2.211   -2.154   -2.144  \n",
       "1           training  2.384   -2.211   -2.154   -2.144  \n",
       "2           training -0.419   -2.461   -2.425   -2.420  \n",
       "3           training  2.384   -2.461   -2.425   -2.420  \n",
       "4        prediction   2.384   -1.744   -1.734   -1.731  "
      ]
     },
     "execution_count": 1198,
     "metadata": {},
     "output_type": "execute_result"
    }
   ],
   "source": [
    "#esta es la nueva data con la que trabajare\n",
    "pd.read_csv(\"Data_DNA.csv\")\n",
    "data = pd.read_csv(\"Data_DNA.csv\")\n",
    "data.head(5)"
   ]
  },
  {
   "cell_type": "code",
   "execution_count": 1199,
   "id": "e73dd852-bf5b-41f7-b93d-4a9aedf456ae",
   "metadata": {},
   "outputs": [
    {
     "name": "stdout",
     "output_type": "stream",
     "text": [
      "5440\n",
      "1360\n"
     ]
    }
   ],
   "source": [
    "data[\"prediction_trainig\"] = data[\"prediction_trainig\"].str.strip()\n",
    "print(len(data[data[\"prediction_trainig\"] == \"training\"]))\n",
    "print(len(data[data[\"prediction_trainig\"] == \"prediction\"]))"
   ]
  },
  {
   "cell_type": "code",
   "execution_count": 1200,
   "id": "de8eacd4-1592-4ad8-a160-ca89e0685e01",
   "metadata": {},
   "outputs": [],
   "source": [
    "Y= data.iloc[:,3]\n",
    "X = data.iloc[:, 7:]"
   ]
  },
  {
   "cell_type": "code",
   "execution_count": 1201,
   "id": "02e15a0a-cf10-494e-84a2-94c03e9899b6",
   "metadata": {},
   "outputs": [],
   "source": [
    "train_data = data[data[\"prediction_trainig\"] == \"training\"]\n",
    "pred_data = data[data[\"prediction_trainig\"] == \"prediction\"]"
   ]
  },
  {
   "cell_type": "code",
   "execution_count": 1202,
   "id": "db1c3ccb-f240-4e8b-9d69-6c35c983a560",
   "metadata": {},
   "outputs": [
    {
     "name": "stdout",
     "output_type": "stream",
     "text": [
      "(1360, 4)\n",
      "(5440, 4)\n",
      "(1360,)\n",
      "(5440,)\n"
     ]
    }
   ],
   "source": [
    "#decision tree model\n",
    "X_train_tree= train_data.iloc[:, 7:]\n",
    "X_val_tree= pred_data.iloc[:, 7:]\n",
    "y_train_tree= train_data.iloc[:, 3]\n",
    "y_val_tree= pred_data.iloc[:, 3]\n",
    "\n",
    "print(X_val_tree.shape)\n",
    "print(X_train_tree.shape)\n",
    "print(y_val_tree.shape)\n",
    "print(y_train_tree.shape)"
   ]
  },
  {
   "cell_type": "code",
   "execution_count": 1203,
   "id": "88a0d9f6-b469-4a2e-addb-bee60f80a5c6",
   "metadata": {},
   "outputs": [
    {
     "name": "stdout",
     "output_type": "stream",
     "text": [
      "(1360, 4)\n",
      "(5440, 4)\n",
      "(1360,)\n",
      "(5440,)\n"
     ]
    }
   ],
   "source": [
    "#Ramdon_forest_model\n",
    "X_train_forest= train_data.iloc[:, 7:]\n",
    "X_val_forest = pred_data.iloc[:, 7:]\n",
    "y_train_forest= train_data.iloc[:, 3]\n",
    "y_val_forest= pred_data.iloc[:, 3]\n",
    "\n",
    "print(X_val_forest.shape)\n",
    "print(X_train_forest.shape)\n",
    "print(y_val_forest.shape)\n",
    "print(y_train_forest.shape)"
   ]
  },
  {
   "cell_type": "code",
   "execution_count": 1204,
   "id": "ef0d444f-ded3-4225-948f-12ce06e1c35f",
   "metadata": {},
   "outputs": [
    {
     "name": "stdout",
     "output_type": "stream",
     "text": [
      "(1360, 4)\n",
      "(5440, 4)\n",
      "(1360,)\n",
      "(5440,)\n"
     ]
    }
   ],
   "source": [
    "#knn_model\n",
    "X_train_knn= train_data.iloc[:, 7:]\n",
    "X_val_knn = pred_data.iloc[:, 7:]\n",
    "y_train_knn= train_data.iloc[:, 3]\n",
    "y_val_knn= pred_data.iloc[:, 3]\n",
    "\n",
    "print(X_val_knn.shape)\n",
    "print(X_train_knn.shape)\n",
    "print(y_val_knn.shape)\n",
    "print(y_train_knn.shape)"
   ]
  },
  {
   "cell_type": "code",
   "execution_count": 1205,
   "id": "aa5e8912-82d6-4219-9458-247d5137442c",
   "metadata": {},
   "outputs": [],
   "source": [
    "mlr_X_train_tree= X_train_tree[['eref', 'Dq0_Seq', 'Dq1_Seq','Dq2_Seq']]\n",
    "mlr_X_val_tree = X_pred_tree[['eref', 'Dq0_Seq', 'Dq1_Seq','Dq2_Seq']]"
   ]
  },
  {
   "cell_type": "code",
   "execution_count": 1206,
   "id": "0f0fef1e-5211-4f8f-9a90-792f36d5581f",
   "metadata": {},
   "outputs": [],
   "source": [
    "mlr_X_train_forest= X_train_forest[['eref', 'Dq0_Seq', 'Dq1_Seq','Dq2_Seq']]\n",
    "mlr_X_val_forest = X_pred_forest[['eref', 'Dq0_Seq', 'Dq1_Seq','Dq2_Seq']]"
   ]
  },
  {
   "cell_type": "code",
   "execution_count": 1207,
   "id": "4a199298-f864-48ae-bd8e-f1e9d3dad978",
   "metadata": {},
   "outputs": [],
   "source": [
    "mlr_X_train_knn= X_train_knn[['eref', 'Dq0_Seq', 'Dq1_Seq','Dq2_Seq']]\n",
    "mlr_X_val_knn= X_pred_knn[['eref', 'Dq0_Seq', 'Dq1_Seq','Dq2_Seq']]"
   ]
  },
  {
   "cell_type": "code",
   "execution_count": 1208,
   "id": "381ed1a8-32cd-4cc1-bd97-feb43b2f2434",
   "metadata": {},
   "outputs": [],
   "source": [
    "random_seed = 42"
   ]
  },
  {
   "cell_type": "code",
   "execution_count": 1209,
   "id": "42fd9482-2e59-424b-aa27-bf5482183b1a",
   "metadata": {},
   "outputs": [],
   "source": [
    "param_grid = {\n",
    "    'max_depth': range(1, 30),  # Rango de profundidades máximas de 1 a 20\n",
    "    'min_samples_split': range(2, 13),  # Rango de mínimo de muestras para dividir de 2 a 10\n",
    "    'min_samples_leaf': range(1, 6)  # Rango de mínimo de muestras en hoja de 1 a 4\n",
    "}"
   ]
  },
  {
   "cell_type": "code",
   "execution_count": 1210,
   "id": "834fc564-8e80-4e00-8786-ea888d7e4657",
   "metadata": {},
   "outputs": [],
   "source": [
    "# Crea el clasificador DecisionTree\n",
    "classifier = DecisionTreeClassifier()"
   ]
  },
  {
   "cell_type": "code",
   "execution_count": 1211,
   "id": "57c2c497-5ae5-45a7-b22d-e33af23ea915",
   "metadata": {},
   "outputs": [],
   "source": [
    "# Realiza la búsqueda de hiperparámetros utilizando GridSearchCV\n",
    "grid_search_tree = GridSearchCV(classifier, param_grid, cv=5, scoring='accuracy', n_jobs=-1)"
   ]
  },
  {
   "cell_type": "code",
   "execution_count": 1212,
   "id": "d854b9bc-fb3d-447c-acab-d7976c9293c2",
   "metadata": {},
   "outputs": [
    {
     "data": {
      "text/html": [
       "<style>#sk-container-id-74 {color: black;background-color: white;}#sk-container-id-74 pre{padding: 0;}#sk-container-id-74 div.sk-toggleable {background-color: white;}#sk-container-id-74 label.sk-toggleable__label {cursor: pointer;display: block;width: 100%;margin-bottom: 0;padding: 0.3em;box-sizing: border-box;text-align: center;}#sk-container-id-74 label.sk-toggleable__label-arrow:before {content: \"▸\";float: left;margin-right: 0.25em;color: #696969;}#sk-container-id-74 label.sk-toggleable__label-arrow:hover:before {color: black;}#sk-container-id-74 div.sk-estimator:hover label.sk-toggleable__label-arrow:before {color: black;}#sk-container-id-74 div.sk-toggleable__content {max-height: 0;max-width: 0;overflow: hidden;text-align: left;background-color: #f0f8ff;}#sk-container-id-74 div.sk-toggleable__content pre {margin: 0.2em;color: black;border-radius: 0.25em;background-color: #f0f8ff;}#sk-container-id-74 input.sk-toggleable__control:checked~div.sk-toggleable__content {max-height: 200px;max-width: 100%;overflow: auto;}#sk-container-id-74 input.sk-toggleable__control:checked~label.sk-toggleable__label-arrow:before {content: \"▾\";}#sk-container-id-74 div.sk-estimator input.sk-toggleable__control:checked~label.sk-toggleable__label {background-color: #d4ebff;}#sk-container-id-74 div.sk-label input.sk-toggleable__control:checked~label.sk-toggleable__label {background-color: #d4ebff;}#sk-container-id-74 input.sk-hidden--visually {border: 0;clip: rect(1px 1px 1px 1px);clip: rect(1px, 1px, 1px, 1px);height: 1px;margin: -1px;overflow: hidden;padding: 0;position: absolute;width: 1px;}#sk-container-id-74 div.sk-estimator {font-family: monospace;background-color: #f0f8ff;border: 1px dotted black;border-radius: 0.25em;box-sizing: border-box;margin-bottom: 0.5em;}#sk-container-id-74 div.sk-estimator:hover {background-color: #d4ebff;}#sk-container-id-74 div.sk-parallel-item::after {content: \"\";width: 100%;border-bottom: 1px solid gray;flex-grow: 1;}#sk-container-id-74 div.sk-label:hover label.sk-toggleable__label {background-color: #d4ebff;}#sk-container-id-74 div.sk-serial::before {content: \"\";position: absolute;border-left: 1px solid gray;box-sizing: border-box;top: 0;bottom: 0;left: 50%;z-index: 0;}#sk-container-id-74 div.sk-serial {display: flex;flex-direction: column;align-items: center;background-color: white;padding-right: 0.2em;padding-left: 0.2em;position: relative;}#sk-container-id-74 div.sk-item {position: relative;z-index: 1;}#sk-container-id-74 div.sk-parallel {display: flex;align-items: stretch;justify-content: center;background-color: white;position: relative;}#sk-container-id-74 div.sk-item::before, #sk-container-id-74 div.sk-parallel-item::before {content: \"\";position: absolute;border-left: 1px solid gray;box-sizing: border-box;top: 0;bottom: 0;left: 50%;z-index: -1;}#sk-container-id-74 div.sk-parallel-item {display: flex;flex-direction: column;z-index: 1;position: relative;background-color: white;}#sk-container-id-74 div.sk-parallel-item:first-child::after {align-self: flex-end;width: 50%;}#sk-container-id-74 div.sk-parallel-item:last-child::after {align-self: flex-start;width: 50%;}#sk-container-id-74 div.sk-parallel-item:only-child::after {width: 0;}#sk-container-id-74 div.sk-dashed-wrapped {border: 1px dashed gray;margin: 0 0.4em 0.5em 0.4em;box-sizing: border-box;padding-bottom: 0.4em;background-color: white;}#sk-container-id-74 div.sk-label label {font-family: monospace;font-weight: bold;display: inline-block;line-height: 1.2em;}#sk-container-id-74 div.sk-label-container {text-align: center;}#sk-container-id-74 div.sk-container {/* jupyter's `normalize.less` sets `[hidden] { display: none; }` but bootstrap.min.css set `[hidden] { display: none !important; }` so we also need the `!important` here to be able to override the default hidden behavior on the sphinx rendered scikit-learn.org. See: https://github.com/scikit-learn/scikit-learn/issues/21755 */display: inline-block !important;position: relative;}#sk-container-id-74 div.sk-text-repr-fallback {display: none;}</style><div id=\"sk-container-id-74\" class=\"sk-top-container\"><div class=\"sk-text-repr-fallback\"><pre>GridSearchCV(cv=5, estimator=DecisionTreeClassifier(), n_jobs=-1,\n",
       "             param_grid={&#x27;max_depth&#x27;: range(1, 30),\n",
       "                         &#x27;min_samples_leaf&#x27;: range(1, 6),\n",
       "                         &#x27;min_samples_split&#x27;: range(2, 13)},\n",
       "             scoring=&#x27;accuracy&#x27;)</pre><b>In a Jupyter environment, please rerun this cell to show the HTML representation or trust the notebook. <br />On GitHub, the HTML representation is unable to render, please try loading this page with nbviewer.org.</b></div><div class=\"sk-container\" hidden><div class=\"sk-item sk-dashed-wrapped\"><div class=\"sk-label-container\"><div class=\"sk-label sk-toggleable\"><input class=\"sk-toggleable__control sk-hidden--visually\" id=\"sk-estimator-id-168\" type=\"checkbox\" ><label for=\"sk-estimator-id-168\" class=\"sk-toggleable__label sk-toggleable__label-arrow\">GridSearchCV</label><div class=\"sk-toggleable__content\"><pre>GridSearchCV(cv=5, estimator=DecisionTreeClassifier(), n_jobs=-1,\n",
       "             param_grid={&#x27;max_depth&#x27;: range(1, 30),\n",
       "                         &#x27;min_samples_leaf&#x27;: range(1, 6),\n",
       "                         &#x27;min_samples_split&#x27;: range(2, 13)},\n",
       "             scoring=&#x27;accuracy&#x27;)</pre></div></div></div><div class=\"sk-parallel\"><div class=\"sk-parallel-item\"><div class=\"sk-item\"><div class=\"sk-label-container\"><div class=\"sk-label sk-toggleable\"><input class=\"sk-toggleable__control sk-hidden--visually\" id=\"sk-estimator-id-169\" type=\"checkbox\" ><label for=\"sk-estimator-id-169\" class=\"sk-toggleable__label sk-toggleable__label-arrow\">estimator: DecisionTreeClassifier</label><div class=\"sk-toggleable__content\"><pre>DecisionTreeClassifier()</pre></div></div></div><div class=\"sk-serial\"><div class=\"sk-item\"><div class=\"sk-estimator sk-toggleable\"><input class=\"sk-toggleable__control sk-hidden--visually\" id=\"sk-estimator-id-170\" type=\"checkbox\" ><label for=\"sk-estimator-id-170\" class=\"sk-toggleable__label sk-toggleable__label-arrow\">DecisionTreeClassifier</label><div class=\"sk-toggleable__content\"><pre>DecisionTreeClassifier()</pre></div></div></div></div></div></div></div></div></div></div>"
      ],
      "text/plain": [
       "GridSearchCV(cv=5, estimator=DecisionTreeClassifier(), n_jobs=-1,\n",
       "             param_grid={'max_depth': range(1, 30),\n",
       "                         'min_samples_leaf': range(1, 6),\n",
       "                         'min_samples_split': range(2, 13)},\n",
       "             scoring='accuracy')"
      ]
     },
     "execution_count": 1212,
     "metadata": {},
     "output_type": "execute_result"
    }
   ],
   "source": [
    "# create a decision tree model and fit on the train set\n",
    "tree = DecisionTreeClassifier()\n",
    "grid_search_tree.fit(mlr_X_train_tree, y_train_tree) #Este es el fit "
   ]
  },
  {
   "cell_type": "code",
   "execution_count": 1213,
   "id": "f574a19e-7b53-41f8-8bc4-1a5c894219e3",
   "metadata": {},
   "outputs": [
    {
     "name": "stdout",
     "output_type": "stream",
     "text": [
      "Mejores hiperparámetros encontrados:\n",
      "{'max_depth': 5, 'min_samples_leaf': 5, 'min_samples_split': 8}\n"
     ]
    }
   ],
   "source": [
    "print(\"Mejores hiperparámetros encontrados:\")\n",
    "print(grid_search_tree.best_params_)"
   ]
  },
  {
   "cell_type": "code",
   "execution_count": 1214,
   "id": "cfc24cde-3630-4968-85a0-e6f5565f554e",
   "metadata": {},
   "outputs": [],
   "source": [
    "# Obtener el mejor modelo\n",
    "best_tree_model = grid_search.best_estimator_"
   ]
  },
  {
   "cell_type": "code",
   "execution_count": 1215,
   "id": "ebc5ccba-33c5-4619-bfae-7c31b4d90c91",
   "metadata": {},
   "outputs": [],
   "source": [
    "y_pred_tree = best_tree_model.predict(X_pred_forest) #Utilizo esta "
   ]
  },
  {
   "cell_type": "code",
   "execution_count": 1216,
   "id": "245b9ef9-1206-47a9-83c0-2ed2c0a0c667",
   "metadata": {},
   "outputs": [],
   "source": [
    "#Optimizo mi modelos Ramdom Classifier"
   ]
  },
  {
   "cell_type": "code",
   "execution_count": 1217,
   "id": "6c2c00a1-9b57-43a9-b740-b5ffa70da4bb",
   "metadata": {},
   "outputs": [],
   "source": [
    "random_forest_model = RandomForestClassifier(random_state=42)"
   ]
  },
  {
   "cell_type": "code",
   "execution_count": 1218,
   "id": "fe6e4049-f74b-41ab-8426-34e853739acf",
   "metadata": {},
   "outputs": [],
   "source": [
    "param_grid = {\n",
    "    'n_estimators': [50, 300],  # Número de árboles en el bosque\n",
    "    'max_depth': [None, 5, 10],  # Profundidad máxima de cada árbol\n",
    "    'min_samples_split': [2, 5, 10, 20],  # Número mínimo de muestras requeridas para dividir un nodo\n",
    "    'min_samples_leaf': [1, 2, 4, 6]  # Número mínimo de muestras requeridas en un nodo hoja\n",
    "}"
   ]
  },
  {
   "cell_type": "code",
   "execution_count": 1219,
   "id": "56f7d03c-bd3e-4dc3-9cb1-11b1413d8b04",
   "metadata": {},
   "outputs": [],
   "source": [
    "grid_search_rf = GridSearchCV(estimator=random_forest_model, param_grid=param_grid, cv=5, scoring='accuracy', n_jobs=-1)"
   ]
  },
  {
   "cell_type": "code",
   "execution_count": 1220,
   "id": "46680705-fbaf-48fb-bcb1-9f637b5bab25",
   "metadata": {
    "tags": []
   },
   "outputs": [
    {
     "data": {
      "text/html": [
       "<style>#sk-container-id-75 {color: black;background-color: white;}#sk-container-id-75 pre{padding: 0;}#sk-container-id-75 div.sk-toggleable {background-color: white;}#sk-container-id-75 label.sk-toggleable__label {cursor: pointer;display: block;width: 100%;margin-bottom: 0;padding: 0.3em;box-sizing: border-box;text-align: center;}#sk-container-id-75 label.sk-toggleable__label-arrow:before {content: \"▸\";float: left;margin-right: 0.25em;color: #696969;}#sk-container-id-75 label.sk-toggleable__label-arrow:hover:before {color: black;}#sk-container-id-75 div.sk-estimator:hover label.sk-toggleable__label-arrow:before {color: black;}#sk-container-id-75 div.sk-toggleable__content {max-height: 0;max-width: 0;overflow: hidden;text-align: left;background-color: #f0f8ff;}#sk-container-id-75 div.sk-toggleable__content pre {margin: 0.2em;color: black;border-radius: 0.25em;background-color: #f0f8ff;}#sk-container-id-75 input.sk-toggleable__control:checked~div.sk-toggleable__content {max-height: 200px;max-width: 100%;overflow: auto;}#sk-container-id-75 input.sk-toggleable__control:checked~label.sk-toggleable__label-arrow:before {content: \"▾\";}#sk-container-id-75 div.sk-estimator input.sk-toggleable__control:checked~label.sk-toggleable__label {background-color: #d4ebff;}#sk-container-id-75 div.sk-label input.sk-toggleable__control:checked~label.sk-toggleable__label {background-color: #d4ebff;}#sk-container-id-75 input.sk-hidden--visually {border: 0;clip: rect(1px 1px 1px 1px);clip: rect(1px, 1px, 1px, 1px);height: 1px;margin: -1px;overflow: hidden;padding: 0;position: absolute;width: 1px;}#sk-container-id-75 div.sk-estimator {font-family: monospace;background-color: #f0f8ff;border: 1px dotted black;border-radius: 0.25em;box-sizing: border-box;margin-bottom: 0.5em;}#sk-container-id-75 div.sk-estimator:hover {background-color: #d4ebff;}#sk-container-id-75 div.sk-parallel-item::after {content: \"\";width: 100%;border-bottom: 1px solid gray;flex-grow: 1;}#sk-container-id-75 div.sk-label:hover label.sk-toggleable__label {background-color: #d4ebff;}#sk-container-id-75 div.sk-serial::before {content: \"\";position: absolute;border-left: 1px solid gray;box-sizing: border-box;top: 0;bottom: 0;left: 50%;z-index: 0;}#sk-container-id-75 div.sk-serial {display: flex;flex-direction: column;align-items: center;background-color: white;padding-right: 0.2em;padding-left: 0.2em;position: relative;}#sk-container-id-75 div.sk-item {position: relative;z-index: 1;}#sk-container-id-75 div.sk-parallel {display: flex;align-items: stretch;justify-content: center;background-color: white;position: relative;}#sk-container-id-75 div.sk-item::before, #sk-container-id-75 div.sk-parallel-item::before {content: \"\";position: absolute;border-left: 1px solid gray;box-sizing: border-box;top: 0;bottom: 0;left: 50%;z-index: -1;}#sk-container-id-75 div.sk-parallel-item {display: flex;flex-direction: column;z-index: 1;position: relative;background-color: white;}#sk-container-id-75 div.sk-parallel-item:first-child::after {align-self: flex-end;width: 50%;}#sk-container-id-75 div.sk-parallel-item:last-child::after {align-self: flex-start;width: 50%;}#sk-container-id-75 div.sk-parallel-item:only-child::after {width: 0;}#sk-container-id-75 div.sk-dashed-wrapped {border: 1px dashed gray;margin: 0 0.4em 0.5em 0.4em;box-sizing: border-box;padding-bottom: 0.4em;background-color: white;}#sk-container-id-75 div.sk-label label {font-family: monospace;font-weight: bold;display: inline-block;line-height: 1.2em;}#sk-container-id-75 div.sk-label-container {text-align: center;}#sk-container-id-75 div.sk-container {/* jupyter's `normalize.less` sets `[hidden] { display: none; }` but bootstrap.min.css set `[hidden] { display: none !important; }` so we also need the `!important` here to be able to override the default hidden behavior on the sphinx rendered scikit-learn.org. See: https://github.com/scikit-learn/scikit-learn/issues/21755 */display: inline-block !important;position: relative;}#sk-container-id-75 div.sk-text-repr-fallback {display: none;}</style><div id=\"sk-container-id-75\" class=\"sk-top-container\"><div class=\"sk-text-repr-fallback\"><pre>GridSearchCV(cv=5, estimator=RandomForestClassifier(random_state=42), n_jobs=-1,\n",
       "             param_grid={&#x27;max_depth&#x27;: [None, 5, 10],\n",
       "                         &#x27;min_samples_leaf&#x27;: [1, 2, 4, 6],\n",
       "                         &#x27;min_samples_split&#x27;: [2, 5, 10, 20],\n",
       "                         &#x27;n_estimators&#x27;: [50, 300]},\n",
       "             scoring=&#x27;accuracy&#x27;)</pre><b>In a Jupyter environment, please rerun this cell to show the HTML representation or trust the notebook. <br />On GitHub, the HTML representation is unable to render, please try loading this page with nbviewer.org.</b></div><div class=\"sk-container\" hidden><div class=\"sk-item sk-dashed-wrapped\"><div class=\"sk-label-container\"><div class=\"sk-label sk-toggleable\"><input class=\"sk-toggleable__control sk-hidden--visually\" id=\"sk-estimator-id-171\" type=\"checkbox\" ><label for=\"sk-estimator-id-171\" class=\"sk-toggleable__label sk-toggleable__label-arrow\">GridSearchCV</label><div class=\"sk-toggleable__content\"><pre>GridSearchCV(cv=5, estimator=RandomForestClassifier(random_state=42), n_jobs=-1,\n",
       "             param_grid={&#x27;max_depth&#x27;: [None, 5, 10],\n",
       "                         &#x27;min_samples_leaf&#x27;: [1, 2, 4, 6],\n",
       "                         &#x27;min_samples_split&#x27;: [2, 5, 10, 20],\n",
       "                         &#x27;n_estimators&#x27;: [50, 300]},\n",
       "             scoring=&#x27;accuracy&#x27;)</pre></div></div></div><div class=\"sk-parallel\"><div class=\"sk-parallel-item\"><div class=\"sk-item\"><div class=\"sk-label-container\"><div class=\"sk-label sk-toggleable\"><input class=\"sk-toggleable__control sk-hidden--visually\" id=\"sk-estimator-id-172\" type=\"checkbox\" ><label for=\"sk-estimator-id-172\" class=\"sk-toggleable__label sk-toggleable__label-arrow\">estimator: RandomForestClassifier</label><div class=\"sk-toggleable__content\"><pre>RandomForestClassifier(random_state=42)</pre></div></div></div><div class=\"sk-serial\"><div class=\"sk-item\"><div class=\"sk-estimator sk-toggleable\"><input class=\"sk-toggleable__control sk-hidden--visually\" id=\"sk-estimator-id-173\" type=\"checkbox\" ><label for=\"sk-estimator-id-173\" class=\"sk-toggleable__label sk-toggleable__label-arrow\">RandomForestClassifier</label><div class=\"sk-toggleable__content\"><pre>RandomForestClassifier(random_state=42)</pre></div></div></div></div></div></div></div></div></div></div>"
      ],
      "text/plain": [
       "GridSearchCV(cv=5, estimator=RandomForestClassifier(random_state=42), n_jobs=-1,\n",
       "             param_grid={'max_depth': [None, 5, 10],\n",
       "                         'min_samples_leaf': [1, 2, 4, 6],\n",
       "                         'min_samples_split': [2, 5, 10, 20],\n",
       "                         'n_estimators': [50, 300]},\n",
       "             scoring='accuracy')"
      ]
     },
     "execution_count": 1220,
     "metadata": {},
     "output_type": "execute_result"
    }
   ],
   "source": [
    "# create a random forest model and fit on the train set\n",
    "forest = RandomForestClassifier()\n",
    "grid_search_rf.fit(mlr_X_train_forest, y_train_forest)"
   ]
  },
  {
   "cell_type": "code",
   "execution_count": 1221,
   "id": "d5a9b797-552c-42c3-999e-e5daded1d964",
   "metadata": {},
   "outputs": [
    {
     "name": "stdout",
     "output_type": "stream",
     "text": [
      "Mejores hiperparámetros encontrados:\n",
      "{'max_depth': None, 'min_samples_leaf': 4, 'min_samples_split': 20, 'n_estimators': 50}\n"
     ]
    }
   ],
   "source": [
    "# Imprime los mejores hiperparámetros encontrados\n",
    "print(\"Mejores hiperparámetros encontrados:\")\n",
    "print(grid_search_rf.best_params_)"
   ]
  },
  {
   "cell_type": "code",
   "execution_count": 1222,
   "id": "e2fd7f75-b03d-42a6-83a4-1a475dd8eab2",
   "metadata": {},
   "outputs": [],
   "source": [
    "# Obtener el mejor modelo\n",
    "best_forest_model = grid_search.best_estimator_"
   ]
  },
  {
   "cell_type": "code",
   "execution_count": 1223,
   "id": "166843c5-3535-46a8-88d6-1bfa5dc2f1d6",
   "metadata": {},
   "outputs": [],
   "source": [
    "y_pred_forest = best_forest_model.predict(X_pred_forest) #Utilizo esta "
   ]
  },
  {
   "cell_type": "code",
   "execution_count": 1224,
   "id": "cbd7684e-0600-4b22-87f7-55d1666a5c3c",
   "metadata": {},
   "outputs": [],
   "source": [
    "#Optimizo mi modelos KNN "
   ]
  },
  {
   "cell_type": "code",
   "execution_count": 1225,
   "id": "93bb423d-da2b-4f89-af14-bae119855696",
   "metadata": {},
   "outputs": [],
   "source": [
    "# Definir la cuadrícula de hiperparámetros\n",
    "# Defino una cuadrícula de hiperparámetros para buscar\n",
    "param_grid = {\n",
    "    'n_neighbors': [3, 5, 7, 9, 11, 13],  # Diferentes valores para el número de vecinos\n",
    "    'weights': ['uniform', 'distance'],  # Diferentes métodos de ponderación\n",
    "    'algorithm': ['auto', 'ball_tree', 'kd_tree', 'brute'],  # Algoritmos para KNN\n",
    "    'p': [1, 2],  # 1 para distancia Manhattan, 2 para distancia Euclidiana\n",
    "}"
   ]
  },
  {
   "cell_type": "code",
   "execution_count": 1226,
   "id": "17ff904f-469a-485e-8f79-72fcd4c34d36",
   "metadata": {},
   "outputs": [],
   "source": [
    "# Configurar la búsqueda de cuadrícula con validación cruzada (CV)\n",
    "grid_search_knn = GridSearchCV(knn, param_grid, cv=5, scoring='accuracy', n_jobs=-1)"
   ]
  },
  {
   "cell_type": "code",
   "execution_count": 1227,
   "id": "30759cca-bfa3-4f5b-8aad-16f1488fc8fe",
   "metadata": {},
   "outputs": [
    {
     "data": {
      "text/html": [
       "<style>#sk-container-id-76 {color: black;background-color: white;}#sk-container-id-76 pre{padding: 0;}#sk-container-id-76 div.sk-toggleable {background-color: white;}#sk-container-id-76 label.sk-toggleable__label {cursor: pointer;display: block;width: 100%;margin-bottom: 0;padding: 0.3em;box-sizing: border-box;text-align: center;}#sk-container-id-76 label.sk-toggleable__label-arrow:before {content: \"▸\";float: left;margin-right: 0.25em;color: #696969;}#sk-container-id-76 label.sk-toggleable__label-arrow:hover:before {color: black;}#sk-container-id-76 div.sk-estimator:hover label.sk-toggleable__label-arrow:before {color: black;}#sk-container-id-76 div.sk-toggleable__content {max-height: 0;max-width: 0;overflow: hidden;text-align: left;background-color: #f0f8ff;}#sk-container-id-76 div.sk-toggleable__content pre {margin: 0.2em;color: black;border-radius: 0.25em;background-color: #f0f8ff;}#sk-container-id-76 input.sk-toggleable__control:checked~div.sk-toggleable__content {max-height: 200px;max-width: 100%;overflow: auto;}#sk-container-id-76 input.sk-toggleable__control:checked~label.sk-toggleable__label-arrow:before {content: \"▾\";}#sk-container-id-76 div.sk-estimator input.sk-toggleable__control:checked~label.sk-toggleable__label {background-color: #d4ebff;}#sk-container-id-76 div.sk-label input.sk-toggleable__control:checked~label.sk-toggleable__label {background-color: #d4ebff;}#sk-container-id-76 input.sk-hidden--visually {border: 0;clip: rect(1px 1px 1px 1px);clip: rect(1px, 1px, 1px, 1px);height: 1px;margin: -1px;overflow: hidden;padding: 0;position: absolute;width: 1px;}#sk-container-id-76 div.sk-estimator {font-family: monospace;background-color: #f0f8ff;border: 1px dotted black;border-radius: 0.25em;box-sizing: border-box;margin-bottom: 0.5em;}#sk-container-id-76 div.sk-estimator:hover {background-color: #d4ebff;}#sk-container-id-76 div.sk-parallel-item::after {content: \"\";width: 100%;border-bottom: 1px solid gray;flex-grow: 1;}#sk-container-id-76 div.sk-label:hover label.sk-toggleable__label {background-color: #d4ebff;}#sk-container-id-76 div.sk-serial::before {content: \"\";position: absolute;border-left: 1px solid gray;box-sizing: border-box;top: 0;bottom: 0;left: 50%;z-index: 0;}#sk-container-id-76 div.sk-serial {display: flex;flex-direction: column;align-items: center;background-color: white;padding-right: 0.2em;padding-left: 0.2em;position: relative;}#sk-container-id-76 div.sk-item {position: relative;z-index: 1;}#sk-container-id-76 div.sk-parallel {display: flex;align-items: stretch;justify-content: center;background-color: white;position: relative;}#sk-container-id-76 div.sk-item::before, #sk-container-id-76 div.sk-parallel-item::before {content: \"\";position: absolute;border-left: 1px solid gray;box-sizing: border-box;top: 0;bottom: 0;left: 50%;z-index: -1;}#sk-container-id-76 div.sk-parallel-item {display: flex;flex-direction: column;z-index: 1;position: relative;background-color: white;}#sk-container-id-76 div.sk-parallel-item:first-child::after {align-self: flex-end;width: 50%;}#sk-container-id-76 div.sk-parallel-item:last-child::after {align-self: flex-start;width: 50%;}#sk-container-id-76 div.sk-parallel-item:only-child::after {width: 0;}#sk-container-id-76 div.sk-dashed-wrapped {border: 1px dashed gray;margin: 0 0.4em 0.5em 0.4em;box-sizing: border-box;padding-bottom: 0.4em;background-color: white;}#sk-container-id-76 div.sk-label label {font-family: monospace;font-weight: bold;display: inline-block;line-height: 1.2em;}#sk-container-id-76 div.sk-label-container {text-align: center;}#sk-container-id-76 div.sk-container {/* jupyter's `normalize.less` sets `[hidden] { display: none; }` but bootstrap.min.css set `[hidden] { display: none !important; }` so we also need the `!important` here to be able to override the default hidden behavior on the sphinx rendered scikit-learn.org. See: https://github.com/scikit-learn/scikit-learn/issues/21755 */display: inline-block !important;position: relative;}#sk-container-id-76 div.sk-text-repr-fallback {display: none;}</style><div id=\"sk-container-id-76\" class=\"sk-top-container\"><div class=\"sk-text-repr-fallback\"><pre>GridSearchCV(cv=5, estimator=KNeighborsClassifier(), n_jobs=-1,\n",
       "             param_grid={&#x27;algorithm&#x27;: [&#x27;auto&#x27;, &#x27;ball_tree&#x27;, &#x27;kd_tree&#x27;, &#x27;brute&#x27;],\n",
       "                         &#x27;n_neighbors&#x27;: [3, 5, 7, 9, 11, 13], &#x27;p&#x27;: [1, 2],\n",
       "                         &#x27;weights&#x27;: [&#x27;uniform&#x27;, &#x27;distance&#x27;]},\n",
       "             scoring=&#x27;accuracy&#x27;)</pre><b>In a Jupyter environment, please rerun this cell to show the HTML representation or trust the notebook. <br />On GitHub, the HTML representation is unable to render, please try loading this page with nbviewer.org.</b></div><div class=\"sk-container\" hidden><div class=\"sk-item sk-dashed-wrapped\"><div class=\"sk-label-container\"><div class=\"sk-label sk-toggleable\"><input class=\"sk-toggleable__control sk-hidden--visually\" id=\"sk-estimator-id-174\" type=\"checkbox\" ><label for=\"sk-estimator-id-174\" class=\"sk-toggleable__label sk-toggleable__label-arrow\">GridSearchCV</label><div class=\"sk-toggleable__content\"><pre>GridSearchCV(cv=5, estimator=KNeighborsClassifier(), n_jobs=-1,\n",
       "             param_grid={&#x27;algorithm&#x27;: [&#x27;auto&#x27;, &#x27;ball_tree&#x27;, &#x27;kd_tree&#x27;, &#x27;brute&#x27;],\n",
       "                         &#x27;n_neighbors&#x27;: [3, 5, 7, 9, 11, 13], &#x27;p&#x27;: [1, 2],\n",
       "                         &#x27;weights&#x27;: [&#x27;uniform&#x27;, &#x27;distance&#x27;]},\n",
       "             scoring=&#x27;accuracy&#x27;)</pre></div></div></div><div class=\"sk-parallel\"><div class=\"sk-parallel-item\"><div class=\"sk-item\"><div class=\"sk-label-container\"><div class=\"sk-label sk-toggleable\"><input class=\"sk-toggleable__control sk-hidden--visually\" id=\"sk-estimator-id-175\" type=\"checkbox\" ><label for=\"sk-estimator-id-175\" class=\"sk-toggleable__label sk-toggleable__label-arrow\">estimator: KNeighborsClassifier</label><div class=\"sk-toggleable__content\"><pre>KNeighborsClassifier()</pre></div></div></div><div class=\"sk-serial\"><div class=\"sk-item\"><div class=\"sk-estimator sk-toggleable\"><input class=\"sk-toggleable__control sk-hidden--visually\" id=\"sk-estimator-id-176\" type=\"checkbox\" ><label for=\"sk-estimator-id-176\" class=\"sk-toggleable__label sk-toggleable__label-arrow\">KNeighborsClassifier</label><div class=\"sk-toggleable__content\"><pre>KNeighborsClassifier()</pre></div></div></div></div></div></div></div></div></div></div>"
      ],
      "text/plain": [
       "GridSearchCV(cv=5, estimator=KNeighborsClassifier(), n_jobs=-1,\n",
       "             param_grid={'algorithm': ['auto', 'ball_tree', 'kd_tree', 'brute'],\n",
       "                         'n_neighbors': [3, 5, 7, 9, 11, 13], 'p': [1, 2],\n",
       "                         'weights': ['uniform', 'distance']},\n",
       "             scoring='accuracy')"
      ]
     },
     "execution_count": 1227,
     "metadata": {},
     "output_type": "execute_result"
    }
   ],
   "source": [
    "# create a knn model and fit on the train set\n",
    "knn = KNeighborsClassifier()\n",
    "grid_search_knn.fit(mlr_X_train_knn, y_train_knn)"
   ]
  },
  {
   "cell_type": "code",
   "execution_count": 1228,
   "id": "9c5a7e1d-3256-4fdc-b0f1-e1552096092a",
   "metadata": {},
   "outputs": [
    {
     "name": "stdout",
     "output_type": "stream",
     "text": [
      "Mejores hiperparámetros para KNN:\n",
      "{'n_neighbors': 3, 'p': 2, 'weights': 'uniform'}\n"
     ]
    }
   ],
   "source": [
    "print(\"Mejores hiperparámetros para KNN:\")\n",
    "print(grid_search.best_params_)"
   ]
  },
  {
   "cell_type": "code",
   "execution_count": 1229,
   "id": "5bd78d01-b759-45aa-a730-3b7755349bba",
   "metadata": {},
   "outputs": [],
   "source": [
    "# Obtener el mejor modelo\n",
    "best_knn_model = grid_search.best_estimator_"
   ]
  },
  {
   "cell_type": "code",
   "execution_count": 1230,
   "id": "2ea4710a-c334-464e-a4e1-731df37b8bc5",
   "metadata": {},
   "outputs": [],
   "source": [
    "y_pred_knn = best_knn_model.predict(X_pred_tree) #Utilizo esta "
   ]
  },
  {
   "cell_type": "code",
   "execution_count": 1231,
   "id": "aed12d85-9813-4e26-94c4-bf0c2f899e09",
   "metadata": {},
   "outputs": [],
   "source": [
    "# make predictions on the train set\n",
    "y_pred_train_tree = best_tree_model.predict(mlr_X_train_tree)  \n",
    "y_pred_train_forest = best_forest_model.predict(mlr_X_train_forest) \n",
    "y_pred_train_knn = best_knn_model.predict(mlr_X_train_knn) "
   ]
  },
  {
   "cell_type": "code",
   "execution_count": 1232,
   "id": "0117d45a-0442-4ae8-bd8f-5b376935fdf0",
   "metadata": {},
   "outputs": [],
   "source": [
    "# calculate confusion matrices\n",
    "cm_tree_train = confusion_matrix(y_train_tree, y_pred_train_tree)\n",
    "cm_forest_train = confusion_matrix(y_train_forest, y_pred_train_forest)\n",
    "cm_knn_train = confusion_matrix(y_train_knn, y_pred_train_knn)"
   ]
  },
  {
   "cell_type": "code",
   "execution_count": 1233,
   "id": "56542dad-c19a-4491-a7b9-dae6eda74402",
   "metadata": {},
   "outputs": [],
   "source": [
    "# calculate performance metrics\n",
    "tn_tree, fp_tree, fn_tree, tp_tree = cm_tree_train.ravel()\n",
    "tn_forest, fp_forest, fn_forest, tp_forest = cm_forest_train.ravel()\n",
    "tn_knn, fp_knn, fn_knn, tp_knn = cm_knn_train.ravel()"
   ]
  },
  {
   "cell_type": "code",
   "execution_count": 1234,
   "id": "20d8d54c-01aa-4aaa-923b-08f9640628c3",
   "metadata": {},
   "outputs": [],
   "source": [
    "specificity_tree_train = tn_tree / (tn_tree + fp_tree)\n",
    "sensitivity_tree_train = tp_tree / (tp_tree + fn_tree)\n",
    "accuracy_tree_train = (tp_tree + tn_tree) / (tp_tree + tn_tree + fp_tree + fn_tree)\n",
    "false_positive_tree_train = fp_tree / (fp_tree + tn_tree)"
   ]
  },
  {
   "cell_type": "code",
   "execution_count": 1235,
   "id": "0e9cd6e5-6806-45e0-8649-0358c178f75a",
   "metadata": {},
   "outputs": [],
   "source": [
    "specificity_forest_train = tn_forest / (tn_forest + fp_forest)\n",
    "sensitivity_forest_train = tp_forest / (tp_forest + fn_forest)\n",
    "accuracy_forest_train = (tp_forest + tn_forest) / (tp_forest + tn_forest + fp_forest + fn_forest)\n",
    "false_positive_forest_train = fp_forest / (fp_forest + tn_forest)"
   ]
  },
  {
   "cell_type": "code",
   "execution_count": 1236,
   "id": "d0d059cc-94b1-4a73-b814-b1f9c52e750c",
   "metadata": {},
   "outputs": [],
   "source": [
    "specificity_knn_train = tn_knn / (tn_knn + fp_knn)\n",
    "sensitivity_knn_train = tp_knn / (tp_knn + fn_knn)\n",
    "accuracy_knn_train = (tp_knn + tn_knn) / (tp_knn + tn_knn + fp_knn + fn_knn)\n",
    "false_positive_knn_train = fp_knn / (fp_knn + tn_knn)"
   ]
  },
  {
   "cell_type": "code",
   "execution_count": 1237,
   "id": "afd7b03f-be45-47a0-a418-f9803b957fc8",
   "metadata": {},
   "outputs": [],
   "source": [
    "mcc_tree = matthews_corrcoef(y_train_tree, y_pred_train_tree )\n",
    "mcc_forest = matthews_corrcoef(y_train_forest, y_pred_train_forest)\n",
    "mcc_knn = matthews_corrcoef(y_train_knn, y_pred_train_knn)"
   ]
  },
  {
   "cell_type": "code",
   "execution_count": 1238,
   "id": "c87f9928-eef0-4695-af8d-ebf09e70a83d",
   "metadata": {},
   "outputs": [],
   "source": [
    "# make predictions on the val set\n",
    "y_pred_valid_tree = best_tree_model.predict(mlr_X_val_tree )  \n",
    "y_pred_valid_forest = best_forest_model.predict(mlr_X_val_forest) \n",
    "y_pred_valid_knn = best_knn_model.predict(mlr_X_val_forest) "
   ]
  },
  {
   "cell_type": "code",
   "execution_count": 1239,
   "id": "9b21778b-ec1e-42ce-a1a3-e27077be92cf",
   "metadata": {},
   "outputs": [],
   "source": [
    "# calculate confusion matrices\n",
    "cm_val_tree=confusion_matrix(y_val_tree, y_pred_valid_tree)\n",
    "cm_val_forest=confusion_matrix(y_val_forest, y_pred_valid_forest)\n",
    "cm_val_knn=confusion_matrix(y_val_knn, y_pred_valid_forest)"
   ]
  },
  {
   "cell_type": "code",
   "execution_count": 1240,
   "id": "bb492b48-6b68-4ada-be22-86be3c9f60de",
   "metadata": {},
   "outputs": [],
   "source": [
    "# calculate performance metrics on test set\n",
    "tn_tree_p, fp_tree_p, fn_tree_p, tp_tree_p = cm_val_tree.ravel()\n",
    "tn_forest_p, fp_forest_p, fn_forest_p, tp_forest_p = cm_val_forest.ravel()\n",
    "tn_knn_p, fp_knn_p, fn_knn_p, tp_knn_p = cm_val_knn.ravel()"
   ]
  },
  {
   "cell_type": "code",
   "execution_count": 1241,
   "id": "c8b66cc1-3dab-4d34-b639-19265e45624d",
   "metadata": {},
   "outputs": [],
   "source": [
    "specificity_tree_val = tn_tree_p / (tn_tree_p + fp_tree_p)\n",
    "sensitivity_tree_val = tp_tree_p / (tp_tree_p + fn_tree_p)\n",
    "accuracy_tree_val = (tp_tree_p + tn_tree_p) / (tp_tree_p + tn_tree_p + fp_tree_p + fn_tree_p)\n",
    "false_positive_tree_val = fp_tree_p / (fp_tree_p + tn_tree_p) #revisar aqui"
   ]
  },
  {
   "cell_type": "code",
   "execution_count": 1242,
   "id": "76189b97-d0fc-4ab6-9034-7a8e12b7c894",
   "metadata": {},
   "outputs": [],
   "source": [
    "specificity_forest_val = tn_forest_p / (tn_forest_p + fp_forest_p)\n",
    "sensitivity_forest_val = tp_forest_p / (tp_forest_p + fn_forest_p)\n",
    "accuracy_forest_val = (tp_forest_p + tn_forest_p) / (tp_forest_p + tn_forest_p + fp_forest_p + fn_forest_p)\n",
    "false_positive_forest_val = fp_forest_p / (fp_forest_p + tn_forest_p)"
   ]
  },
  {
   "cell_type": "code",
   "execution_count": 1243,
   "id": "7d83e52d-4658-4f39-927e-de48f8c28439",
   "metadata": {},
   "outputs": [],
   "source": [
    "specificity_knn_val = tn_knn_p / (tn_knn_p + fp_knn_p)\n",
    "sensitivity_knn_val = tp_knn_p / (tp_knn_p + fn_knn_p)\n",
    "accuracy_knn_val = (tp_knn_p + tn_knn_p) / (tp_knn_p + tn_knn_p + fp_knn_p + fn_knn_p)\n",
    "false_positive_knn_val = fp_knn_p / (fp_knn_p + tn_knn_p)"
   ]
  },
  {
   "cell_type": "code",
   "execution_count": 1244,
   "id": "76d3a04e-53d6-47f6-96c1-c31e4ef686da",
   "metadata": {},
   "outputs": [],
   "source": [
    "mcc_tree_val = matthews_corrcoef(y_val_tree, y_pred_valid_tree)\n",
    "mcc_forest_val = matthews_corrcoef(y_val_forest, y_pred_valid_forest)\n",
    "mcc_knn_val = matthews_corrcoef(y_val_knn, y_pred_valid_knn)"
   ]
  },
  {
   "cell_type": "code",
   "execution_count": 1245,
   "id": "7a88d46e-94f8-4e5f-9063-7c058107ab46",
   "metadata": {},
   "outputs": [],
   "source": [
    "# create a bar plot of the performance metrics for each classifier for the training and test sets\n",
    "labels = ['Accuracy', 'Specificity', 'Sensitivity','1-False\\nPositive\\nRate','MCC']\n",
    "tree_train_values = [accuracy_tree_train,specificity_tree_train,sensitivity_tree_train,1-false_positive_tree_train,mcc_tree]\n",
    "forest_train_values = [accuracy_forest_train, specificity_forest_train, sensitivity_forest_train, 1-false_positive_forest_train, mcc_forest]\n",
    "knn_train_values = [accuracy_knn_train, specificity_knn_train,sensitivity_knn_train, 1-false_positive_knn_train,mcc_knn]"
   ]
  },
  {
   "cell_type": "code",
   "execution_count": 1246,
   "id": "f9a137e7-65cb-4677-b0f1-6b8e0dd2b695",
   "metadata": {},
   "outputs": [],
   "source": [
    "tree_val_values= [accuracy_tree_val, specificity_tree_val, sensitivity_tree_val, 1-false_positive_tree_val, mcc_tree_val]\n",
    "forest_val_vaues= [accuracy_forest_val, specificity_forest_val, sensitivity_forest_val, 1-false_positive_forest_val,mcc_forest_val]\n",
    "knn_val_values=[accuracy_tree_val, specificity_tree_val, sensitivity_tree_val, 1-false_positive_tree_val, mcc_tree_val]"
   ]
  },
  {
   "cell_type": "code",
   "execution_count": 1247,
   "id": "b805f59e-d5a7-432d-a9d0-4dea41db475e",
   "metadata": {},
   "outputs": [],
   "source": [
    "x = np.arange(len(labels))  # the label locations\n",
    "width = 0.2  # the width of the bars"
   ]
  },
  {
   "cell_type": "code",
   "execution_count": 1248,
   "id": "ddf2f502-c22d-4450-a3d7-e2ad6ba57240",
   "metadata": {},
   "outputs": [
    {
     "data": {
      "image/png": "[encoded data removed]",
      "text/plain": [
       "<Figure size 1500x500 with 2 Axes>"
      ]
     },
     "metadata": {},
     "output_type": "display_data"
    }
   ],
   "source": [
    "fig, (ax1, ax2) = plt.subplots(1, 2, figsize=(15, 5))\n",
    "\n",
    "# plot the performance metrics for the training set\n",
    "rects1 = ax1.bar(x, tree_train_values, width, label='Decision Tree', color='tab:orange',alpha=0.7)\n",
    "rects2 = ax1.bar(x + width, forest_train_values, width, label='Random Forest', color='tab:green',alpha=0.7)\n",
    "rects3 = ax1.bar(x - width, knn_train_values, width, label='KNN', color='tab:blue',alpha=0.7)\n",
    "\n",
    "ax1.set_ylabel('Value')\n",
    "ax1.set_title('Performance Metrics Training Set')\n",
    "ax1.set_xticks(x + width / 2)\n",
    "ax1.set_xticklabels(labels)\n",
    "#ax1.legend()\n",
    "\n",
    "# plot the performance metrics for the val set\n",
    "rects1 = ax2.bar(x, tree_test_values, width, label='Decision Tree', color='tab:orange',alpha=0.7)\n",
    "rects2 = ax2.bar(x + width, forest_test_values, width, label='Random Forest', color='tab:green',alpha=0.7)\n",
    "rects3 = ax2.bar(x - width, knn_test_values, width, label='KNeighborsClassifier', color='tab:blue',alpha=0.7)\n",
    "\n",
    "ax2.set_ylabel('Value')\n",
    "ax2.set_title('Performance Metrics Test Set')\n",
    "ax2.set_xticks(x + width / 2)\n",
    "ax2.set_xticklabels(labels)\n",
    "#ax2.legend()\n",
    "\n",
    "plt.legend(loc='upper center', bbox_to_anchor=(0.0, -0.15), ncol=3,fontsize=14)\n",
    "plt.show()"
   ]
  },
  {
   "cell_type": "code",
   "execution_count": 1249,
   "id": "5586e50f-45ef-4770-996f-3cc1d61b6701",
   "metadata": {},
   "outputs": [],
   "source": [
    "from sklearn.metrics import roc_curve, auc"
   ]
  },
  {
   "cell_type": "code",
   "execution_count": 1250,
   "id": "e1b6d28c-0332-4ef2-9eaf-58f3079947bd",
   "metadata": {},
   "outputs": [],
   "source": [
    "# Predict probabilities for training set\n",
    "probas_tree_train = best_tree_model.predict_proba(mlr_X_train_tree)[:, 1]\n",
    "probas_forest_train = best_forest_model.predict_proba(mlr_X_train_forest)[:, 1]\n",
    "probas_knn_train =  best_knn_model.predict_proba(mlr_X_train_knn)[:,1] "
   ]
  },
  {
   "cell_type": "code",
   "execution_count": 1251,
   "id": "424ea6a4-1e87-4640-af19-52a8fbca244e",
   "metadata": {},
   "outputs": [],
   "source": [
    "# Compute ROC curve and AUC for decision tree model\n",
    "fpr_tree_train, tpr_tree_train, thresholds_tree_train = roc_curve(y_train_tree, probas_tree_train)\n",
    "roc_auc_tree_train = auc(fpr_tree_train, tpr_tree_train)"
   ]
  },
  {
   "cell_type": "code",
   "execution_count": 1252,
   "id": "01358ade-ffbe-4f0c-9c8d-ab049827a80c",
   "metadata": {},
   "outputs": [],
   "source": [
    "# Compute ROC curve and AUC for ramdom forest\n",
    "fpr_rf_train, tpr_rf_train, thresholds_rf_train = roc_curve(y_train_forest, probas_forest_train)\n",
    "roc_auc_rf_train = auc(fpr_rf_train, tpr_rf_train)"
   ]
  },
  {
   "cell_type": "code",
   "execution_count": 1253,
   "id": "7cb81a34-d1c1-4858-895c-65e56a6002f0",
   "metadata": {},
   "outputs": [],
   "source": [
    "# Compute ROC curve and AUC for knn model\n",
    "fpr_knn_train, tpr_knn_train, thresholds_knn_train = roc_curve(y_train_knn, probas_knn_train)\n",
    "roc_auc_knn_train = auc(fpr_knn_train, tpr_knn_train)"
   ]
  },
  {
   "cell_type": "code",
   "execution_count": 1254,
   "id": "1e3af962-aec5-449d-b832-cba07097da64",
   "metadata": {},
   "outputs": [
    {
     "data": {
      "image/png": "[encoded data removed]",
      "text/plain": [
       "<Figure size 640x480 with 1 Axes>"
      ]
     },
     "metadata": {},
     "output_type": "display_data"
    }
   ],
   "source": [
    "# Plot ROC curves\n",
    "# Plot ROC curves\n",
    "plt.plot(fpr_tree_train, tpr_tree_train, color='darkorange', lw=2, label='Decision tree ROC curve (area = %0.2f)' % roc_auc_tree_train)\n",
    "plt.plot(fpr_rf_train, tpr_rf_train, color='green', lw=2, label='Ramdom Forest ROC curve (area = %0.2f)' % roc_auc_rf_train)\n",
    "plt.plot(fpr_knn_train, tpr_knn_train, color='blue', lw=2, label='KNeighbors ROC curve (area = %0.2f)' % roc_auc_knn_train)\n",
    "plt.plot([0, 1], [0, 1], color='navy', lw=2, linestyle='--')\n",
    "plt.xlim([0.0, 1.0])\n",
    "plt.ylim([0.0, 1.05])\n",
    "plt.xlabel('False Positive Rate')\n",
    "plt.ylabel('True Positive Rate')\n",
    "plt.title('Receiver operating characteristic (ROC) - Training Set')\n",
    "plt.legend(loc=\"lower right\")\n",
    "plt.show()"
   ]
  },
  {
   "cell_type": "code",
   "execution_count": 1255,
   "id": "0722b02c-bc84-4413-9471-1a31e1d3bee8",
   "metadata": {},
   "outputs": [],
   "source": [
    "from sklearn.metrics import confusion_matrix\n",
    "import seaborn as sns"
   ]
  },
  {
   "cell_type": "code",
   "execution_count": 1256,
   "id": "17ef84c8-0d4a-4e8e-9b0d-d1722ddcfa89",
   "metadata": {},
   "outputs": [],
   "source": [
    "# Función para graficar la matriz de confusión\n",
    "def plot_confusion_matrix(y_train_tree, y_pred_train_tree, model_name):\n",
    "    cm = confusion_matrix(y_train_tree, y_pred_train_tree)\n",
    "    plt.figure(figsize=(3, 3))\n",
    "    sns.heatmap(cm, annot=True, fmt=\"d\", cmap=\"Blues\", cbar=False)\n",
    "    plt.xlabel('Predicted')\n",
    "    plt.ylabel('True')\n",
    "    plt.title(f'Confusion Matrix - {model_name}')\n",
    "    plt.show()"
   ]
  },
  {
   "cell_type": "code",
   "execution_count": 1257,
   "id": "e84bd0b4-4c41-4c30-8c9a-9c438b693e05",
   "metadata": {},
   "outputs": [
    {
     "data": {
      "image/png": "[encoded data removed]",
      "text/plain": [
       "<Figure size 300x300 with 1 Axes>"
      ]
     },
     "metadata": {},
     "output_type": "display_data"
    }
   ],
   "source": [
    "# Graficar la matriz de confusión para Decision Tree\n",
    "plot_confusion_matrix(y_train_tree, y_pred_train_tree, 'Decision Tree')"
   ]
  },
  {
   "cell_type": "code",
   "execution_count": 1258,
   "id": "32c675ff-afb2-4265-9edb-f2ac85b13ce4",
   "metadata": {},
   "outputs": [],
   "source": [
    "# Función para graficar la matriz de confusión\n",
    "def plot_confusion_matrix(y_train_forest, y_pred_train_forest, model_name):\n",
    "    cm = confusion_matrix(y_train_forest, y_pred_train_forest)\n",
    "    plt.figure(figsize=(3, 3))\n",
    "    sns.heatmap(cm, annot=True, fmt=\"d\", cmap=\"Blues\", cbar=False)\n",
    "    plt.xlabel('Predicted')\n",
    "    plt.ylabel('True')\n",
    "    plt.title(f'Confusion Matrix - {model_name}')\n",
    "    plt.show()"
   ]
  },
  {
   "cell_type": "code",
   "execution_count": 1259,
   "id": "5fb2d2a8-8276-45ef-858f-562c20cccefb",
   "metadata": {},
   "outputs": [
    {
     "data": {
      "image/png": "[encoded data removed]",
      "text/plain": [
       "<Figure size 300x300 with 1 Axes>"
      ]
     },
     "metadata": {},
     "output_type": "display_data"
    }
   ],
   "source": [
    "# Graficar la matriz de confusión para Decision Tree\n",
    "plot_confusion_matrix(y_train_forest, y_pred_train_forest, 'Forest')"
   ]
  },
  {
   "cell_type": "code",
   "execution_count": 1260,
   "id": "bd81d134-87df-43dd-ad1c-6e1f030ca1cd",
   "metadata": {},
   "outputs": [],
   "source": [
    "# Función para graficar la matriz de confusión\n",
    "def plot_confusion_matrix(y_train_knn, y_pred_train_knn, model_name):\n",
    "    cm = confusion_matrix(y_train_knn, y_pred_train_knn)\n",
    "    plt.figure(figsize=(3, 3))\n",
    "    sns.heatmap(cm, annot=True, fmt=\"d\", cmap=\"Blues\", cbar=False)\n",
    "    plt.xlabel('Predicted')\n",
    "    plt.ylabel('True')\n",
    "    plt.title(f'Confusion Matrix - {model_name}')\n",
    "    plt.show()"
   ]
  },
  {
   "cell_type": "code",
   "execution_count": 1192,
   "id": "f206c3a7-7cea-4126-bd7e-904416bd2638",
   "metadata": {},
   "outputs": [
    {
     "data": {
      "image/png": "[encoded data removed]",
      "text/plain": [
       "<Figure size 300x300 with 1 Axes>"
      ]
     },
     "metadata": {},
     "output_type": "display_data"
    }
   ],
   "source": [
    "# Graficar la matriz de confusión para Decision Tree\n",
    "plot_confusion_matrix(y_train_knn, y_pred_train_knn, 'KNeighborsClassifier')"
   ]
  },
  {
   "cell_type": "code",
   "execution_count": null,
   "id": "10eb866b-16e2-4dc2-8792-88d7cc4e499c",
   "metadata": {},
   "outputs": [],
   "source": []
  }
 ],
 "metadata": {
  "kernelspec": {
   "display_name": "Python 3 (ipykernel)",
   "language": "python",
   "name": "python3"
  },
  "language_info": {
   "codemirror_mode": {
    "name": "ipython",
    "version": 3
   },
   "file_extension": ".py",
   "mimetype": "text/x-python",
   "name": "python",
   "nbconvert_exporter": "python",
   "pygments_lexer": "ipython3",
   "version": "3.10.9"
  }
 },
 "nbformat": 4,
 "nbformat_minor": 5
}
